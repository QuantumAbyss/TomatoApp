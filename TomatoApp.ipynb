{
 "cells": [
  {
   "cell_type": "code",
   "execution_count": 1,
   "metadata": {},
   "outputs": [
    {
     "name": "stdout",
     "output_type": "stream",
     "text": [
      "Requirement already satisfied: voila in /home/quantumabyss/anaconda3/envs/fastai2/lib/python3.8/site-packages (0.2.3)\n",
      "Requirement already satisfied: jupyter-server<2.0.0,>=0.3.0 in /home/quantumabyss/anaconda3/envs/fastai2/lib/python3.8/site-packages (from voila) (1.0.5)\n",
      "Requirement already satisfied: nbclient<0.6,>=0.4.0 in /home/quantumabyss/anaconda3/envs/fastai2/lib/python3.8/site-packages (from voila) (0.5.0)\n",
      "Requirement already satisfied: nbconvert<7,>=6.0.0 in /home/quantumabyss/anaconda3/envs/fastai2/lib/python3.8/site-packages (from voila) (6.0.7)\n",
      "Requirement already satisfied: jupyter-client<7,>=6.1.3 in /home/quantumabyss/anaconda3/envs/fastai2/lib/python3.8/site-packages (from voila) (6.1.7)\n",
      "Requirement already satisfied: traitlets>=4.2.1 in /home/quantumabyss/anaconda3/envs/fastai2/lib/python3.8/site-packages (from jupyter-server<2.0.0,>=0.3.0->voila) (5.0.4)\n",
      "Requirement already satisfied: ipython-genutils in /home/quantumabyss/anaconda3/envs/fastai2/lib/python3.8/site-packages (from jupyter-server<2.0.0,>=0.3.0->voila) (0.2.0)\n",
      "Requirement already satisfied: prometheus-client in /home/quantumabyss/anaconda3/envs/fastai2/lib/python3.8/site-packages (from jupyter-server<2.0.0,>=0.3.0->voila) (0.8.0)\n",
      "Requirement already satisfied: Send2Trash in /home/quantumabyss/anaconda3/envs/fastai2/lib/python3.8/site-packages (from jupyter-server<2.0.0,>=0.3.0->voila) (1.5.0)\n",
      "Requirement already satisfied: jupyter-core>=4.4.0 in /home/quantumabyss/anaconda3/envs/fastai2/lib/python3.8/site-packages (from jupyter-server<2.0.0,>=0.3.0->voila) (4.6.3)\n",
      "Requirement already satisfied: terminado>=0.8.3 in /home/quantumabyss/anaconda3/envs/fastai2/lib/python3.8/site-packages (from jupyter-server<2.0.0,>=0.3.0->voila) (0.9.1)\n",
      "Requirement already satisfied: pyzmq>=17 in /home/quantumabyss/anaconda3/envs/fastai2/lib/python3.8/site-packages (from jupyter-server<2.0.0,>=0.3.0->voila) (19.0.2)\n",
      "Requirement already satisfied: nbformat in /home/quantumabyss/anaconda3/envs/fastai2/lib/python3.8/site-packages (from jupyter-server<2.0.0,>=0.3.0->voila) (5.0.7)\n",
      "Requirement already satisfied: tornado>=5.0 in /home/quantumabyss/anaconda3/envs/fastai2/lib/python3.8/site-packages (from jupyter-server<2.0.0,>=0.3.0->voila) (6.0.4)\n",
      "Requirement already satisfied: jinja2 in /home/quantumabyss/anaconda3/envs/fastai2/lib/python3.8/site-packages (from jupyter-server<2.0.0,>=0.3.0->voila) (2.11.2)\n",
      "Requirement already satisfied: async-generator in /home/quantumabyss/anaconda3/envs/fastai2/lib/python3.8/site-packages (from nbclient<0.6,>=0.4.0->voila) (1.10)\n",
      "Requirement already satisfied: nest-asyncio in /home/quantumabyss/anaconda3/envs/fastai2/lib/python3.8/site-packages (from nbclient<0.6,>=0.4.0->voila) (1.4.1)\n",
      "Requirement already satisfied: testpath in /home/quantumabyss/anaconda3/envs/fastai2/lib/python3.8/site-packages (from nbconvert<7,>=6.0.0->voila) (0.4.4)\n",
      "Requirement already satisfied: bleach in /home/quantumabyss/anaconda3/envs/fastai2/lib/python3.8/site-packages (from nbconvert<7,>=6.0.0->voila) (3.2.1)\n",
      "Requirement already satisfied: defusedxml in /home/quantumabyss/anaconda3/envs/fastai2/lib/python3.8/site-packages (from nbconvert<7,>=6.0.0->voila) (0.6.0)\n",
      "Requirement already satisfied: mistune<2,>=0.8.1 in /home/quantumabyss/anaconda3/envs/fastai2/lib/python3.8/site-packages (from nbconvert<7,>=6.0.0->voila) (0.8.4)\n",
      "Requirement already satisfied: jupyterlab-pygments in /home/quantumabyss/anaconda3/envs/fastai2/lib/python3.8/site-packages (from nbconvert<7,>=6.0.0->voila) (0.1.2)\n",
      "Requirement already satisfied: pandocfilters>=1.4.1 in /home/quantumabyss/anaconda3/envs/fastai2/lib/python3.8/site-packages (from nbconvert<7,>=6.0.0->voila) (1.4.2)\n",
      "Requirement already satisfied: pygments>=2.4.1 in /home/quantumabyss/anaconda3/envs/fastai2/lib/python3.8/site-packages (from nbconvert<7,>=6.0.0->voila) (2.7.1)\n",
      "Requirement already satisfied: entrypoints>=0.2.2 in /home/quantumabyss/anaconda3/envs/fastai2/lib/python3.8/site-packages (from nbconvert<7,>=6.0.0->voila) (0.3)\n",
      "Requirement already satisfied: python-dateutil>=2.1 in /home/quantumabyss/anaconda3/envs/fastai2/lib/python3.8/site-packages (from jupyter-client<7,>=6.1.3->voila) (2.8.1)\n",
      "Requirement already satisfied: ptyprocess in /home/quantumabyss/anaconda3/envs/fastai2/lib/python3.8/site-packages (from terminado>=0.8.3->jupyter-server<2.0.0,>=0.3.0->voila) (0.6.0)\n",
      "Requirement already satisfied: jsonschema!=2.5.0,>=2.4 in /home/quantumabyss/anaconda3/envs/fastai2/lib/python3.8/site-packages (from nbformat->jupyter-server<2.0.0,>=0.3.0->voila) (3.0.2)\n",
      "Requirement already satisfied: MarkupSafe>=0.23 in /home/quantumabyss/anaconda3/envs/fastai2/lib/python3.8/site-packages (from jinja2->jupyter-server<2.0.0,>=0.3.0->voila) (1.1.1)\n",
      "Requirement already satisfied: packaging in /home/quantumabyss/anaconda3/envs/fastai2/lib/python3.8/site-packages (from bleach->nbconvert<7,>=6.0.0->voila) (20.4)\n",
      "Requirement already satisfied: webencodings in /home/quantumabyss/anaconda3/envs/fastai2/lib/python3.8/site-packages (from bleach->nbconvert<7,>=6.0.0->voila) (0.5.1)\n",
      "Requirement already satisfied: six>=1.9.0 in /home/quantumabyss/anaconda3/envs/fastai2/lib/python3.8/site-packages (from bleach->nbconvert<7,>=6.0.0->voila) (1.15.0)\n",
      "Requirement already satisfied: setuptools in /home/quantumabyss/anaconda3/envs/fastai2/lib/python3.8/site-packages (from jsonschema!=2.5.0,>=2.4->nbformat->jupyter-server<2.0.0,>=0.3.0->voila) (50.3.0.post20201006)\n",
      "Requirement already satisfied: attrs>=17.4.0 in /home/quantumabyss/anaconda3/envs/fastai2/lib/python3.8/site-packages (from jsonschema!=2.5.0,>=2.4->nbformat->jupyter-server<2.0.0,>=0.3.0->voila) (20.2.0)\n",
      "Requirement already satisfied: pyrsistent>=0.14.0 in /home/quantumabyss/anaconda3/envs/fastai2/lib/python3.8/site-packages (from jsonschema!=2.5.0,>=2.4->nbformat->jupyter-server<2.0.0,>=0.3.0->voila) (0.17.3)\n",
      "Requirement already satisfied: pyparsing>=2.0.2 in /home/quantumabyss/anaconda3/envs/fastai2/lib/python3.8/site-packages (from packaging->bleach->nbconvert<7,>=6.0.0->voila) (2.4.7)\n",
      "Enabling: voila\n",
      "- Writing config: /home/quantumabyss/anaconda3/envs/fastai2/etc/jupyter\n",
      "    - Validating...\n",
      "      voila 0.2.3 \u001b[32mOK\u001b[0m\n"
     ]
    }
   ],
   "source": [
    "#!pip install voila\n",
    "#!jupyter serverextension enable voila --sys-prefix"
   ]
  },
  {
   "cell_type": "code",
   "execution_count": 11,
   "metadata": {},
   "outputs": [],
   "source": [
    "from fastai.vision.all import *\n",
    "from fastai.vision.widgets import*"
   ]
  },
  {
   "cell_type": "markdown",
   "metadata": {},
   "source": [
    "# Tomato Varietal Classifier\n",
    "\n",
    "Upload an image of a tomato to have the classifier determine what varietal it is. The model has been trained on Amish Plum, Cherokee Purple, Green Zebra, Pink Brandywine, San Marzano, Wild Red Cherry, and Yellow Pear tomato varietals."
   ]
  },
  {
   "cell_type": "code",
   "execution_count": 12,
   "metadata": {},
   "outputs": [],
   "source": [
    "path = Path()\n",
    "learn_inf = load_learner(path/\"export.pkl\", cpu=True)\n",
    "btn_upload = widgets.FileUpload()\n",
    "out_pl = widgets.Output()\n",
    "lbl_pred = widgets.Label()"
   ]
  },
  {
   "cell_type": "code",
   "execution_count": 13,
   "metadata": {},
   "outputs": [],
   "source": [
    "def on_click(change):\n",
    "    img = PILImage.create(btn_upload.data[-1])\n",
    "    out_pl.clear_output()\n",
    "    with out_pl: display(img.to_thumb(128,128))\n",
    "    pred, pred_idx, probs = learn_inf.predict(img)\n",
    "    lbl_pred.value = f'Prediction: {pred}; Probability: {probs[pred_idx]:.04f}'"
   ]
  },
  {
   "cell_type": "code",
   "execution_count": 14,
   "metadata": {},
   "outputs": [],
   "source": [
    "btn_upload.observe(on_click, names=['data'])"
   ]
  },
  {
   "cell_type": "code",
   "execution_count": 15,
   "metadata": {},
   "outputs": [
    {
     "data": {
      "application/vnd.jupyter.widget-view+json": {
       "model_id": "1513829c066b4446b77038493cbe88f9",
       "version_major": 2,
       "version_minor": 0
      },
      "text/plain": [
       "VBox(children=(Label(value='Select your tomato!'), FileUpload(value={}, description='Upload'), Output(), Label…"
      ]
     },
     "metadata": {},
     "output_type": "display_data"
    }
   ],
   "source": [
    "display(VBox([widgets.Label('Select your tomato!'), btn_upload, out_pl, lbl_pred]))"
   ]
  },
  {
   "cell_type": "code",
   "execution_count": null,
   "metadata": {},
   "outputs": [],
   "source": []
  }
 ],
 "metadata": {
  "kernelspec": {
   "display_name": "Python 3",
   "language": "python",
   "name": "python3"
  },
  "language_info": {
   "codemirror_mode": {
    "name": "ipython",
    "version": 3
   },
   "file_extension": ".py",
   "mimetype": "text/x-python",
   "name": "python",
   "nbconvert_exporter": "python",
   "pygments_lexer": "ipython3",
   "version": "3.8.5"
  }
 },
 "nbformat": 4,
 "nbformat_minor": 4
}
